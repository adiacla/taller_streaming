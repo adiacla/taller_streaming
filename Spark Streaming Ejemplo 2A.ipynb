{
 "cells": [
  {
   "cell_type": "markdown",
   "id": "9c847db7",
   "metadata": {},
   "source": [
    "## Un ejemplo rápido\n",
    "Antes de entrar en los detalles de cómo escribir su propio programa Spark Streaming, echemos un vistazo rápido a cómo se ve un simple programa Spark Streaming. Digamos que queremos contar el número de palabras en los datos de texto recibidos de un servidor de datos que escucha en un socket TCP."
   ]
  },
  {
   "cell_type": "code",
   "execution_count": 1,
   "id": "770b7ed4",
   "metadata": {},
   "outputs": [],
   "source": [
    "import findspark\n",
    "findspark.init()"
   ]
  },
  {
   "cell_type": "code",
   "execution_count": 2,
   "id": "f9e9ac53",
   "metadata": {},
   "outputs": [],
   "source": [
    "from pyspark import SparkContext\n",
    "from pyspark.streaming import StreamingContext"
   ]
  },
  {
   "cell_type": "markdown",
   "id": "47495d18",
   "metadata": {},
   "source": [
    "Primero, importamos StreamingContext, que es el punto de entrada principal para toda la funcionalidad de transmisión. Creamos un StreamingContext local con dos subprocesos de ejecución e intervalo por lotes de 1 segundo."
   ]
  },
  {
   "cell_type": "code",
   "execution_count": 3,
   "id": "29b79ac7",
   "metadata": {},
   "outputs": [],
   "source": [
    "# Create a local StreamingContext with two working thread and batch interval of 1 second\n",
    "sc = SparkContext(\"local[*]\", \"Direccion\")\n",
    "ssc = StreamingContext(sc, 1)"
   ]
  },
  {
   "cell_type": "code",
   "execution_count": 4,
   "id": "6a4dd59b",
   "metadata": {},
   "outputs": [],
   "source": [
    "# Create a DStream that will connect to hostname:port, like localhost:9999\n",
    "lines = ssc.socketTextStream(\"rtd.hpwren.ucsd.edu\", 12028)\n",
    "lines.pprint()"
   ]
  },
  {
   "cell_type": "code",
   "execution_count": null,
   "id": "3e786a1a",
   "metadata": {},
   "outputs": [
    {
     "name": "stdout",
     "output_type": "stream",
     "text": [
      "-------------------------------------------\n",
      "Time: 2022-10-03 18:18:21\n",
      "-------------------------------------------\n",
      "\n",
      "-------------------------------------------\n",
      "Time: 2022-10-03 18:18:22\n",
      "-------------------------------------------\n",
      "198.202.124.3\tHPWREN:PA-WXT520:0R1:4:0\t1664839099\t0R1,Dn=351D,Dm=053D,Dx=144D,Sn=7.7M,Sm=12.6M,Sx=14.1M\n",
      "\n",
      "\n",
      "-------------------------------------------\n",
      "Time: 2022-10-03 18:18:23\n",
      "-------------------------------------------\n",
      "198.202.124.3\tHPWREN:PA-WXT520:0R1:4:0\t1664839100\t0R1,Dn=351D,Dm=057D,Dx=144D,Sn=7.7M,Sm=12.6M,Sx=14.1M\n",
      "\n",
      "\n",
      "-------------------------------------------\n",
      "Time: 2022-10-03 18:18:24\n",
      "-------------------------------------------\n",
      "198.202.124.3\tHPWREN:PA-WXT520:0R1:4:0\t1664839101\t0R1,Dn=351D,Dm=062D,Dx=144D,Sn=7.4M,Sm=12.1M,Sx=14.1M\n",
      "\n",
      "\n",
      "-------------------------------------------\n",
      "Time: 2022-10-03 18:18:25\n",
      "-------------------------------------------\n",
      "198.202.124.3\tHPWREN:PA-WXT520:0R1:4:0\t1664839102\t0R1,Dn=351D,Dm=058D,Dx=144D,Sn=7.4M,Sm=11.7M,Sx=14.1M\n",
      "\n",
      "\n",
      "-------------------------------------------\n",
      "Time: 2022-10-03 18:18:26\n",
      "-------------------------------------------\n",
      "198.202.124.3\tHPWREN:PA-WXT520:0R1:4:0\t1664839103\t0R1,Dn=351#,Dm=058#,Dx=144#,Sn=7.4#,Sm=11.7#,Sx=14.1#\n",
      "\n",
      "\n",
      "-------------------------------------------\n",
      "Time: 2022-10-03 18:18:27\n",
      "-------------------------------------------\n",
      "198.202.124.3\tHPWREN:PA-WXT520:0R1:4:0\t1664839104\t0R1,Dn=351#,Dm=058#,Dx=144#,Sn=7.4#,Sm=11.7#,Sx=14.1#\n",
      "\n",
      "\n",
      "-------------------------------------------\n",
      "Time: 2022-10-03 18:18:28\n",
      "-------------------------------------------\n",
      "198.202.124.3\tHPWREN:PA-WXT520:0R1:4:0\t1664839105\t0R1,Dn=033D,Dm=050D,Dx=118D,Sn=7.4M,Sm=12.2M,Sx=14.7M\n",
      "\n",
      "\n",
      "-------------------------------------------\n",
      "Time: 2022-10-03 18:18:29\n",
      "-------------------------------------------\n",
      "198.202.124.3\tHPWREN:PA-WXT520:0R1:4:0\t1664839106\t0R1,Dn=033D,Dm=052D,Dx=118D,Sn=7.4M,Sm=12.6M,Sx=14.7M\n",
      "\n",
      "\n",
      "-------------------------------------------\n",
      "Time: 2022-10-03 18:18:30\n",
      "-------------------------------------------\n",
      "198.202.124.3\tHPWREN:PA-WXT520:0R2:4:0\t1664839106\t0R2,Ta=24.6C,Ua=54.1P,Pa=908.5H\n",
      "\n",
      "198.202.124.3\tHPWREN:PA-WXT520:0R1:4:0\t1664839107\t0R1,Dn=033D,Dm=059D,Dx=151D,Sn=7.4M,Sm=12.7M,Sx=14.7M\n",
      "\n",
      "\n",
      "-------------------------------------------\n",
      "Time: 2022-10-03 18:18:31\n",
      "-------------------------------------------\n",
      "198.202.124.3\tHPWREN:PA-WXT520:0R1:4:0\t1664839108\t0R1,Dn=031D,Dm=059D,Dx=151D,Sn=7.4M,Sm=12.8M,Sx=14.7M\n",
      "\n",
      "\n",
      "-------------------------------------------\n",
      "Time: 2022-10-03 18:18:32\n",
      "-------------------------------------------\n",
      "198.202.124.3\tHPWREN:PA-WXT520:0R1:4:0\t1664839109\t0R1,Dn=031D,Dm=059D,Dx=151D,Sn=7.4M,Sm=12.9M,Sx=14.7M\n",
      "\n",
      "\n",
      "-------------------------------------------\n",
      "Time: 2022-10-03 18:18:33\n",
      "-------------------------------------------\n",
      "198.202.124.3\tHPWREN:PA-WXT520:0R1:4:0\t1664839110\t0R1,Dn=031D,Dm=059D,Dx=151D,Sn=7.4M,Sm=12.9M,Sx=14.7M\n",
      "\n",
      "\n",
      "-------------------------------------------\n",
      "Time: 2022-10-03 18:18:34\n",
      "-------------------------------------------\n",
      "198.202.124.3\tHPWREN:PA-WXT520:0R1:4:0\t1664839111\t0R1,Dn=031D,Dm=062D,Dx=152D,Sn=10.4M,Sm=13.6M,Sx=14.7M\n",
      "\n",
      "\n",
      "-------------------------------------------\n",
      "Time: 2022-10-03 18:18:35\n",
      "-------------------------------------------\n",
      "\n",
      "-------------------------------------------\n",
      "Time: 2022-10-03 18:18:36\n",
      "-------------------------------------------\n",
      "198.202.124.3\tHPWREN:PA-WXT520:0R1:4:0\t1664839112\t0R1,Dn=017D,Dm=060D,Dx=152D,Sn=12.0M,Sm=13.9M,Sx=14.7M\n",
      "\n",
      "198.202.124.3\tHPWREN:PA-WXT520:0R1:4:0\t1664839113\t0R1,Dn=017D,Dm=059D,Dx=152D,Sn=13.3M,Sm=14.1M,Sx=14.7M\n",
      "\n",
      "\n",
      "-------------------------------------------\n",
      "Time: 2022-10-03 18:18:37\n",
      "-------------------------------------------\n",
      "198.202.124.3\tHPWREN:PA-WXT520:0R5:4:0\t1664839114\t0R5,Th=28.8C,Vh=0.0#,Vs=23.7V,Vr=3.552V\n",
      "\n",
      "\n",
      "-------------------------------------------\n",
      "Time: 2022-10-03 18:18:38\n",
      "-------------------------------------------\n",
      "198.202.124.3\tHPWREN:PA-WXT520:0R1:4:0\t1664839114\t0R1,Dn=017D,Dm=058D,Dx=152D,Sn=13.7M,Sm=14.2M,Sx=14.7M\n",
      "\n",
      "198.202.124.3\tHPWREN:PA-WXT520:0R0:4:0\t1664839115\t0R0,Dn=017D,Dm=058D,Dx=152D,Sn=13.7M,Sm=14.2M,Sx=14.7M,Ta=24.6C,Ua=54.1P,Pa=908.5H,Rc=88.82M,Rd=6950s,Ri=0.0M,Hc=0.0M,Hd=0s,Hi=0.0M,Vs=23.7V,Vr=3.552V\n",
      "\n",
      "\n"
     ]
    }
   ],
   "source": [
    "ssc.start()             # Start the computation\n",
    "ssc.awaitTermination()  # Wait for the computation to terminate"
   ]
  }
 ],
 "metadata": {
  "kernelspec": {
   "display_name": "Python 3 (ipykernel)",
   "language": "python",
   "name": "python3"
  },
  "language_info": {
   "codemirror_mode": {
    "name": "ipython",
    "version": 3
   },
   "file_extension": ".py",
   "mimetype": "text/x-python",
   "name": "python",
   "nbconvert_exporter": "python",
   "pygments_lexer": "ipython3",
   "version": "3.10.7"
  }
 },
 "nbformat": 4,
 "nbformat_minor": 5
}
