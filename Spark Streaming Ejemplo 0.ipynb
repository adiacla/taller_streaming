{
 "cells": [
  {
   "cell_type": "markdown",
   "metadata": {
    "id": "Z0wPeh1U0DUA"
   },
   "source": [
    "![PySpark](https://www.edureka.co/blog/wp-content/uploads/2018/07/PySpark-logo-1.jpeg)\n",
    "\n",
    "#**Spark - Core**\n",
    "\n",
    "A lo largo del curso vamos a explorar los elementos de Spark soportados en al marco de trabajo de python para tal fin, en esta ocasión revisaremos los elementos de la base principal de Spark, esta opción nos permitirá definir elementos en un entorno Spark y también realizar operaciones de map-reduce.\n",
    "\n",
    "Vamos a usar Pyspark del shell de Windows para aprender las operaciones Básicas del core de SPARK."
   ]
  },
  {
   "cell_type": "code",
   "execution_count": null,
   "metadata": {},
   "outputs": [],
   "source": [
    "import findspark\n",
    "findspark.init()"
   ]
  },
  {
   "cell_type": "code",
   "execution_count": null,
   "metadata": {},
   "outputs": [],
   "source": [
    "from pyspark import SparkContext, SparkConf"
   ]
  },
  {
   "cell_type": "code",
   "execution_count": null,
   "metadata": {},
   "outputs": [],
   "source": [
    "conf = SparkConf().setAppName(\"alfredo\").setMaster(\"local[*]\")"
   ]
  },
  {
   "cell_type": "code",
   "execution_count": null,
   "metadata": {},
   "outputs": [],
   "source": [
    "sc = SparkContext(conf=conf)"
   ]
  },
  {
   "cell_type": "markdown",
   "metadata": {
    "id": "Y3Vv4aYgIo7x"
   },
   "source": [
    "Un RDD se puede definir a partir de un archivo o una variable de python, para este caso vamos a utilizar una lista de python para construir un RDD."
   ]
  },
  {
   "cell_type": "code",
   "execution_count": null,
   "metadata": {
    "id": "NhAFLIihxxdb"
   },
   "outputs": [],
   "source": [
    "data = [1, 2, 3, 4, 5]\n",
    "dataRDD = sc.parallelize(data)"
   ]
  },
  {
   "cell_type": "code",
   "execution_count": null,
   "metadata": {
    "colab": {
     "base_uri": "https://localhost:8080/"
    },
    "id": "VLnQOPx9x4XW",
    "outputId": "49cbcda6-cad6-456e-910f-6c0fe11a497c"
   },
   "outputs": [],
   "source": [
    "type(data)"
   ]
  },
  {
   "cell_type": "code",
   "execution_count": null,
   "metadata": {
    "colab": {
     "base_uri": "https://localhost:8080/"
    },
    "id": "z4hubuPux7Fi",
    "outputId": "30518d41-504f-4b45-b3a2-3e4590b1025b"
   },
   "outputs": [],
   "source": [
    "type(dataRDD)"
   ]
  },
  {
   "cell_type": "markdown",
   "metadata": {
    "id": "VoTa7iPCIyaA"
   },
   "source": [
    "###**Acciones en RDD's**\n",
    "\n",
    "Una acción para un RDD es una operación que genera una salida.\n",
    "\n",
    "![flujo_acciones_transformaciones](https://miro.medium.com/max/569/1*1En5bV-PbHNmkv9buFMxlg.png)\n",
    "\n",
    "Dentro de las acciones más comunes se encuentran:\n",
    "\n",
    "*  **collect:** recolectar todos los elementos del RDD \n",
    "*  **take:** tomar una cantidad de elementos\n",
    "*  **count:** contar la cantidad de elementos tiene el RDD."
   ]
  },
  {
   "cell_type": "code",
   "execution_count": null,
   "metadata": {
    "colab": {
     "base_uri": "https://localhost:8080/"
    },
    "id": "wqHWL1ZQx_XM",
    "outputId": "ae18629a-8448-4eb9-e16b-e040db01e52e"
   },
   "outputs": [],
   "source": [
    "dataRDD.collect()"
   ]
  },
  {
   "cell_type": "code",
   "execution_count": null,
   "metadata": {
    "colab": {
     "base_uri": "https://localhost:8080/"
    },
    "id": "N5LMor9eyF9h",
    "outputId": "408305c9-d1bc-446a-9d44-1b52fb6ee452"
   },
   "outputs": [],
   "source": [
    "dataRDD.take(2)"
   ]
  },
  {
   "cell_type": "code",
   "execution_count": null,
   "metadata": {
    "colab": {
     "base_uri": "https://localhost:8080/"
    },
    "id": "7SCBeHhKyJop",
    "outputId": "7ea30190-1656-4ca6-db48-c9af12ae8585"
   },
   "outputs": [],
   "source": [
    "dataRDD.count()"
   ]
  },
  {
   "cell_type": "markdown",
   "metadata": {
    "id": "vWhbGQSbI2xI"
   },
   "source": [
    "#**Trransformaciones usando Funciones Lambda**\n",
    "\n",
    "##**Transformaciones**\n",
    "\n",
    "Al igual que las acciones las transformaciones son operaciones que se realizan sobre un RDD pero a diferencia de las acciones estas afectan a un RDD para generar otro pero no salen de la sesión y no se muestran en pantalla hasta que una acción así lo permita.\n",
    "\n",
    "Dentro de las transformaciones más comunes se encuentran:\n",
    "\n",
    "*  **map:** permite aplicar una función elemento a elemento en un RDD.\n",
    "*  **flatmap:** es similar a la transformación map pero retorna una lista.  \n",
    "*  **filter:** permite seleccionar un conjunto de elementos que cumplan con una caracteristica dada en un RDD. \n",
    "*  **reduceByKey:** permite generar un RDD a partir de otro el cual es el resultado de una función resumen o de reducción (suma, cuenta).\n",
    "*  **union:** a partir de dos RDD's se genera uno nuevo el cual tiene los elementos de ambos RDD's.\n",
    "*  **intersection:** a partir de dos RDD's se genera uno nuevo el cual tiene solo los elementos comunes de los RDD's.\n",
    "*  **subtract:** a partir de dos RDD's se genera uno nuevo el cual tiene los elementos del primer RDD sin los elementos del segundo RDD."
   ]
  },
  {
   "cell_type": "markdown",
   "metadata": {
    "id": "0INph9cxJVyt"
   },
   "source": [
    "#**map**"
   ]
  },
  {
   "cell_type": "code",
   "execution_count": null,
   "metadata": {
    "colab": {
     "base_uri": "https://localhost:8080/"
    },
    "id": "RlXqWlYQyNkc",
    "outputId": "489bff50-3575-48a9-97f0-c0210c15ea83"
   },
   "outputs": [],
   "source": [
    "dataRDD2 = dataRDD.map(lambda x: x+1)\n",
    "dataRDD2.collect()"
   ]
  },
  {
   "cell_type": "code",
   "execution_count": null,
   "metadata": {
    "colab": {
     "base_uri": "https://localhost:8080/"
    },
    "id": "HVeXOJ64yVdT",
    "outputId": "9f36ad9a-80df-4179-d106-ec8fdae58533"
   },
   "outputs": [],
   "source": [
    "type(dataRDD2)"
   ]
  },
  {
   "cell_type": "markdown",
   "metadata": {
    "id": "d9JQ332yJdR3"
   },
   "source": [
    "#**flatmap**\n",
    "\n",
    "Devuelve el significado del mapa flattern si tiene un conjunto de datos con una matriz, convierte cada elemento en una matriz como una fila. En otras palabras, devuelve 0 o más elementos en la salida para cada elemento en el conjunto de datos."
   ]
  },
  {
   "cell_type": "code",
   "execution_count": null,
   "metadata": {
    "id": "GL3Ir9sQyYvV"
   },
   "outputs": [],
   "source": [
    "datos = [1,2,3]\n",
    "datosRDD3 =sc.parallelize(datos)"
   ]
  },
  {
   "cell_type": "code",
   "execution_count": null,
   "metadata": {
    "colab": {
     "base_uri": "https://localhost:8080/"
    },
    "id": "D3pOHXucyhEQ",
    "outputId": "086b75c2-2566-40f7-b300-8f434fb84737"
   },
   "outputs": [],
   "source": [
    "datosRDD4 = datosRDD3.flatMap(lambda x: range(x))\n",
    "datosRDD4.collect()"
   ]
  },
  {
   "cell_type": "code",
   "execution_count": null,
   "metadata": {
    "colab": {
     "base_uri": "https://localhost:8080/"
    },
    "id": "L8OajqAQyuzq",
    "outputId": "2fd91600-174d-430d-d5bb-9f8c9a588cbf"
   },
   "outputs": [],
   "source": [
    "list(range(4))"
   ]
  },
  {
   "cell_type": "code",
   "execution_count": null,
   "metadata": {
    "colab": {
     "base_uri": "https://localhost:8080/"
    },
    "id": "UL91nrmJzHl0",
    "outputId": "dbb1007b-75da-42bd-d1da-c5d0a15647b0"
   },
   "outputs": [],
   "source": [
    "datosRDD5 =  datosRDD3.map(lambda x: range(x))\n",
    "datosRDD5.collect()"
   ]
  },
  {
   "cell_type": "code",
   "execution_count": null,
   "metadata": {
    "colab": {
     "base_uri": "https://localhost:8080/"
    },
    "id": "Ok3EZqYqybgx",
    "outputId": "382d7158-b3e0-42fc-be95-903146d33fe4"
   },
   "outputs": [],
   "source": [
    "rdd1 = sc.parallelize([1,2,3,4,5,6,7,8,9])\n",
    "rdd2 = rdd1.map(lambda x: x* 2)\n",
    "rdd2.collect()"
   ]
  },
  {
   "cell_type": "code",
   "execution_count": null,
   "metadata": {
    "colab": {
     "base_uri": "https://localhost:8080/"
    },
    "id": "7_rbWE6KzBAJ",
    "outputId": "0ceb1c9e-c11a-4645-d681-fc4f8158302d"
   },
   "outputs": [],
   "source": [
    "rdd1 = sc.parallelize([\"Es mi casa\", \"que queda en la mancha\", \"En un lugar de la mancha\",  \"de cuyo nombre no quiero acordarme\", \"la la en un de un \"])\n",
    "rdd2 = rdd1.map(lambda x: x.split(\" \"))\n",
    "rdd2.collect()\n",
    "rdd3 = rdd1.flatMap(lambda x: x.split(\" \"))\n",
    "rdd3.distinct().collect()"
   ]
  },
  {
   "cell_type": "markdown",
   "metadata": {
    "id": "GdUUFPfnJkPn"
   },
   "source": [
    "#**filter**\n"
   ]
  },
  {
   "cell_type": "code",
   "execution_count": null,
   "metadata": {
    "colab": {
     "base_uri": "https://localhost:8080/"
    },
    "id": "rQ25W8SCzSbK",
    "outputId": "59b00fab-be57-460f-9614-37bb1595d409"
   },
   "outputs": [],
   "source": [
    "datosRDD6 = dataRDD.filter(lambda x: x%2==0)\n",
    "datosRDD6.collect()"
   ]
  },
  {
   "cell_type": "code",
   "execution_count": null,
   "metadata": {
    "colab": {
     "base_uri": "https://localhost:8080/",
     "height": 35
    },
    "id": "oibw8RFW0Tq9",
    "outputId": "80114619-3db4-4164-acce-18c7a07d8a11"
   },
   "outputs": [],
   "source": [
    "rdd1 = sc.parallelize([\"pescado azul\", \"cielo azul\", \"pescado blanco\", \"carne roja\"])\n",
    "rdd1.first()"
   ]
  },
  {
   "cell_type": "code",
   "execution_count": null,
   "metadata": {
    "colab": {
     "base_uri": "https://localhost:8080/"
    },
    "id": "e7H_Ym9Y3P10",
    "outputId": "2ee828c4-e200-44ab-df3f-33cb61375839"
   },
   "outputs": [],
   "source": [
    "rdd9 = sc.parallelize([3,2,4,1])\n",
    "sorted(rdd9.flatMap(lambda x: range(0, x)).collect())"
   ]
  },
  {
   "cell_type": "markdown",
   "metadata": {
    "id": "G9Jm1PJ6JsAQ"
   },
   "source": [
    "### **reduceByKey**"
   ]
  },
  {
   "cell_type": "code",
   "execution_count": null,
   "metadata": {
    "colab": {
     "base_uri": "https://localhost:8080/"
    },
    "id": "_0Ppvp6RJquA",
    "outputId": "b3e7b837-d93e-469a-8a15-822912ff2fe9"
   },
   "outputs": [],
   "source": [
    "datosPares = sc.parallelize([(\"par\",2),(\"impar\",3),(\"par\",4),(\"impar\",5)])\n",
    "datosRDD7 = datosPares.reduceByKey(lambda x,y: x+y)\n",
    "datosRDD7.collect()"
   ]
  },
  {
   "cell_type": "markdown",
   "metadata": {
    "id": "2QCD_PwLJx6g"
   },
   "source": [
    "### **union**"
   ]
  },
  {
   "cell_type": "code",
   "execution_count": null,
   "metadata": {
    "colab": {
     "base_uri": "https://localhost:8080/"
    },
    "id": "xmGeI5iOzhJA",
    "outputId": "1b2acae0-9c20-4d61-9d4b-90baee1fff4f"
   },
   "outputs": [],
   "source": [
    "datosUnidos = datosRDD6.union(datosRDD3)\n",
    "datosUnidos.collect()"
   ]
  },
  {
   "cell_type": "markdown",
   "metadata": {
    "id": "dwn_wQIoJ5B-"
   },
   "source": [
    "intersection"
   ]
  },
  {
   "cell_type": "code",
   "execution_count": null,
   "metadata": {
    "colab": {
     "base_uri": "https://localhost:8080/"
    },
    "id": "tjcKF-QrJ8IV",
    "outputId": "603dfbca-2d9f-4635-d7e8-f08ff6725c54"
   },
   "outputs": [],
   "source": [
    "datosIntersectos =  datosRDD6.intersection(datosRDD3)\n",
    "datosIntersectos.collect()"
   ]
  },
  {
   "cell_type": "markdown",
   "metadata": {
    "id": "NU88TZ37J_f_"
   },
   "source": [
    "### **subtract**"
   ]
  },
  {
   "cell_type": "code",
   "execution_count": null,
   "metadata": {
    "colab": {
     "base_uri": "https://localhost:8080/"
    },
    "id": "AonnX68hKEa_",
    "outputId": "7b5585b4-ef87-4a92-c858-c19d4f3f7f15"
   },
   "outputs": [],
   "source": [
    "datosDiferencia = datosRDD3.subtract(datosRDD6)\n",
    "datosDiferencia.collect()"
   ]
  },
  {
   "cell_type": "markdown",
   "metadata": {
    "id": "YPNTNjKrDjjt"
   },
   "source": [
    "#**Funciones Lambda en python**\n",
    "\n",
    "Qué son las funciones lambda en Python\n",
    "En Python, las funciones lambda son también conocidas como funciones anónimas porque se definen sin un nombre.\n",
    "\n",
    "Una función en Python se define con la palabra reservada def. Sin embargo, una función anónima se define con la palabra reservada lambda.\n",
    "\n",
    "**Cómo se define una función anónima en Python**\n",
    "\n",
    "La sintaxis para definir una función lambda es la siguiente:\n",
    "\n",
    "lambda parámetros: expresión\n",
    "\n",
    "Son funciones que pueden definir cualquier número de parámetros pero una única expresión. Esta expresión es evaluada y devuelta.\n",
    "Se pueden usar en cualquier lugar en el que una función sea requerida.\n",
    "Estas funciones están restringidas al uso de una sola expresión.\n",
    "Se suelen usar en combinación con otras funciones, generalmente como argumentos de otra función.\n"
   ]
  },
  {
   "cell_type": "markdown",
   "metadata": {
    "id": "PwpgRB5fEu3w"
   },
   "source": [
    "#**map()**\n",
    "La función map() en Python aplica una función a cada uno de los elementos de una lista.\n",
    "\n",
    "map(una_funcion, una_lista)\n",
    "\n",
    "Imagina que tienes una lista de enteros y quieres obtener una nueva lista con el cuadrado de cada uno de ellos.\n",
    "\n",
    "Seguramente, lo primero que se te ha ocurrido es algo similar a lo siguiente:\n",
    "\n"
   ]
  },
  {
   "cell_type": "code",
   "execution_count": null,
   "metadata": {
    "colab": {
     "base_uri": "https://localhost:8080/"
    },
    "id": "GtqiRT5NE8oy",
    "outputId": "47698995-0ee3-4b49-ce5c-da98e461e39a"
   },
   "outputs": [],
   "source": [
    "enteros = [1, 2, 4, 7]\n",
    "cuadrados = []\n",
    "for e in enteros:\n",
    "    cuadrados.append(e ** 2)     \n",
    "print(cuadrados)"
   ]
  },
  {
   "cell_type": "markdown",
   "metadata": {
    "id": "S6FNl4HvE_yh"
   },
   "source": [
    "Sin embargo, podemos usar una función anónima en combinación con map() para obtener el mismo resultado de una manera mucho más simple:"
   ]
  },
  {
   "cell_type": "code",
   "execution_count": null,
   "metadata": {
    "colab": {
     "base_uri": "https://localhost:8080/"
    },
    "id": "lv7tRs0zFEtt",
    "outputId": "7819b2cf-1721-45b0-d99f-37586bdd3a14"
   },
   "outputs": [],
   "source": [
    "enteros = [1, 2, 4, 7]\n",
    "cuadrados = list(map(lambda x : x ** 2, enteros))\n",
    "print(cuadrados)"
   ]
  },
  {
   "cell_type": "markdown",
   "metadata": {
    "id": "2smO1BGDFN7Y"
   },
   "source": [
    "#**filter()**\n",
    "La función filter() filtra una lista de elementos para los que una función devuelve True.\n",
    "\n",
    "filter(una_funcion, una_lista)\n",
    "\n",
    "Imagina que quieres filtrar una lista de números para obtener solo los valores pares.\n",
    "\n",
    "De nuevo, una primera aproximación podría ser como la siguiente:"
   ]
  },
  {
   "cell_type": "code",
   "execution_count": null,
   "metadata": {
    "colab": {
     "base_uri": "https://localhost:8080/"
    },
    "id": "6UV4PjFkFm9U",
    "outputId": "990dc664-a879-4d73-a854-4e48452a54be"
   },
   "outputs": [],
   "source": [
    "valores = [1, 2, 3, 4, 5, 6, 7, 8, 9]\n",
    "pares = []\n",
    "for valor in valores:\n",
    "    if valor % 2 == 0:\n",
    "        pares.append(valor)\n",
    "print(pares)"
   ]
  },
  {
   "cell_type": "markdown",
   "metadata": {
    "id": "PhfMyoB9FwJW"
   },
   "source": [
    "No obstante, podemos usar la función filter() y una función lambda para obtener el mismo resultado con una sola línea de código:"
   ]
  },
  {
   "cell_type": "code",
   "execution_count": null,
   "metadata": {
    "colab": {
     "base_uri": "https://localhost:8080/"
    },
    "id": "9NPC0JDGFfu9",
    "outputId": "11d173ea-0a97-4c4b-83ca-3f0610f3740a"
   },
   "outputs": [],
   "source": [
    "valores = [1, 2, 3, 4, 5, 6, 7, 8, 9]\n",
    "pares = list(filter(lambda x : x % 2 == 0, valores))\n",
    "print(pares)"
   ]
  },
  {
   "cell_type": "markdown",
   "metadata": {
    "id": "v5ZxkeocF3jn"
   },
   "source": [
    "#**reduce()**\n",
    "La última función de esta serie que vamos a ver es la función reduce(). Esta función se utiliza principalmente para llevar a cabo un cálculo acumulativo sobre una lista de valores y devolver el resultado.\n",
    "\n",
    "La función reduce() está incluida en el módulo functools.\n",
    "\n",
    "En este caso, la función que se pasa como primer parámetro recibe dos argumentos.\n",
    "\n",
    "Imagina que quieres obtener el resultado de sumar todos los elementos de una lista.\n",
    "\n",
    "Como en las veces anteriores, la suma la puedes calcular de la siguiente manera:"
   ]
  },
  {
   "cell_type": "code",
   "execution_count": null,
   "metadata": {
    "colab": {
     "base_uri": "https://localhost:8080/"
    },
    "id": "A8fzt30tF_-V",
    "outputId": "3e0ba961-3f8b-47d5-e107-8be4727d2ccd"
   },
   "outputs": [],
   "source": [
    "valores = [2, 4, 6, 5, 4]\n",
    "suma = 0\n",
    "for el in valores:\n",
    "    suma += el\n",
    "print(suma)"
   ]
  },
  {
   "cell_type": "markdown",
   "metadata": {
    "id": "VOilQTOUGHMd"
   },
   "source": [
    "Pero también usando la función reduce() en combinación con una función lambda:"
   ]
  },
  {
   "cell_type": "code",
   "execution_count": null,
   "metadata": {
    "colab": {
     "base_uri": "https://localhost:8080/"
    },
    "id": "crg-zeeXGDeK",
    "outputId": "39a94e84-8967-4fed-a78f-03e8a79de1d5"
   },
   "outputs": [],
   "source": [
    "from functools import reduce\n",
    "suma = reduce(lambda x, y: x + y, valores)\n",
    "print(suma)\n",
    "21"
   ]
  },
  {
   "cell_type": "markdown",
   "metadata": {
    "id": "_RdCcFO_GMIN"
   },
   "source": [
    "#**Vamos a realizar un ejercicio usando lambda**"
   ]
  },
  {
   "cell_type": "markdown",
   "metadata": {
    "id": "cKKg9m3N8D_d"
   },
   "source": [
    "https://raw.githubusercontent.com/adiacla/bigdata/master/donQuijote.txt\n",
    "\n",
    "Decargue el libro de Don Quijote (es un ebook)"
   ]
  },
  {
   "cell_type": "code",
   "execution_count": null,
   "metadata": {
    "id": "QXzwX-pT8HkH"
   },
   "outputs": [],
   "source": [
    "libro=sc.textFile(\"c:\\spark\\data\\donQuijote.txt\")"
   ]
  },
  {
   "cell_type": "code",
   "execution_count": null,
   "metadata": {},
   "outputs": [],
   "source": [
    "libro.take(10)"
   ]
  },
  {
   "cell_type": "code",
   "execution_count": null,
   "metadata": {
    "id": "aalyGWzh8jTH"
   },
   "outputs": [],
   "source": [
    "resultado=libro.filter(lambda x: \"Quijote\" in x)"
   ]
  },
  {
   "cell_type": "code",
   "execution_count": null,
   "metadata": {
    "id": "XbwsUQMT9Eg7"
   },
   "outputs": [],
   "source": [
    "resultado.count()"
   ]
  },
  {
   "cell_type": "code",
   "execution_count": null,
   "metadata": {
    "id": "IgpRxFqK-Ve5"
   },
   "outputs": [],
   "source": [
    "resultado.take(5)"
   ]
  },
  {
   "cell_type": "code",
   "execution_count": null,
   "metadata": {
    "id": "NiYvpOBLBfKV"
   },
   "outputs": [],
   "source": [
    "words = libro.flatMap(lambda x: x.split())"
   ]
  },
  {
   "cell_type": "code",
   "execution_count": null,
   "metadata": {
    "id": "6kP1RdJ9Bm66"
   },
   "outputs": [],
   "source": [
    "words.take(5)"
   ]
  },
  {
   "cell_type": "code",
   "execution_count": null,
   "metadata": {
    "id": "C_GFD-fgBvxc"
   },
   "outputs": [],
   "source": [
    "pairs = words.map(lambda s: (s, 1))\n",
    "counts = pairs.reduceByKey(lambda a, b: a + b)"
   ]
  },
  {
   "cell_type": "code",
   "execution_count": null,
   "metadata": {
    "id": "Fpc2JHGbBy1S"
   },
   "outputs": [],
   "source": [
    "counts.take(5)"
   ]
  },
  {
   "cell_type": "code",
   "execution_count": null,
   "metadata": {
    "id": "QtqGgI6cB5hi"
   },
   "outputs": [],
   "source": [
    "counts.saveAsTextFile('resultados')"
   ]
  },
  {
   "cell_type": "markdown",
   "metadata": {
    "id": "cWVqc2FjGy2m"
   },
   "source": [
    "Encontrar laslíneas que tienen algún numero"
   ]
  },
  {
   "cell_type": "code",
   "execution_count": null,
   "metadata": {
    "id": "g-TeFldUGioV"
   },
   "outputs": [],
   "source": [
    "libro.filter(lambda x: any(i.isdigit() for i in x)).take(10)"
   ]
  },
  {
   "cell_type": "code",
   "execution_count": null,
   "metadata": {
    "id": "nNKYnNUMHUzR"
   },
   "outputs": [],
   "source": [
    "libro.filter(lambda x: not any(i.isdigit() for i in x)).take(10)"
   ]
  },
  {
   "cell_type": "code",
   "execution_count": null,
   "metadata": {
    "id": "Re_pBuZ4HolE"
   },
   "outputs": [],
   "source": [
    "libro.filter(lambda x: any(i.isdigit() for i in x)).count()"
   ]
  },
  {
   "cell_type": "markdown",
   "metadata": {
    "id": "Y5G2JaixCa3I"
   },
   "source": [
    "Realizar el mismo ejercicio con el libro\n",
    "counts.saveAsTextFile('resultados')\n",
    "\n",
    "https://raw.githubusercontent.com/adiacla/bigdata/master/platillos_voladores.txt"
   ]
  }
 ],
 "metadata": {
  "colab": {
   "collapsed_sections": [],
   "name": "Spark  Core Alfredo 2021.ipynb",
   "provenance": []
  },
  "kernelspec": {
   "display_name": "Python 3 (ipykernel)",
   "language": "python",
   "name": "python3"
  },
  "language_info": {
   "codemirror_mode": {
    "name": "ipython",
    "version": 3
   },
   "file_extension": ".py",
   "mimetype": "text/x-python",
   "name": "python",
   "nbconvert_exporter": "python",
   "pygments_lexer": "ipython3",
   "version": "3.10.7"
  }
 },
 "nbformat": 4,
 "nbformat_minor": 1
}
