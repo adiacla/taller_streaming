{
 "cells": [
  {
   "cell_type": "code",
   "execution_count": null,
   "id": "48407687",
   "metadata": {},
   "outputs": [],
   "source": [
    "import findspark\n",
    "findspark.init()"
   ]
  },
  {
   "cell_type": "code",
   "execution_count": null,
   "id": "33113ee4",
   "metadata": {},
   "outputs": [],
   "source": [
    "from pyspark import SparkContext\n",
    "from pyspark.streaming import StreamingContext"
   ]
  },
  {
   "cell_type": "code",
   "execution_count": null,
   "id": "d9026121",
   "metadata": {},
   "outputs": [],
   "source": [
    "# Create a local StreamingContext with two working thread and batch interval of 10 seconds\n",
    "sc = SparkContext(\"local[2]\", \"Contarpalabras\")\n",
    "ssc = StreamingContext(sc, 2)"
   ]
  },
  {
   "cell_type": "markdown",
   "id": "c053943d",
   "metadata": {},
   "source": [
    "### Comience a transmitir los datos\n",
    "Para recibir datos, el contexto de transmisión proporciona un método para transmitir datos desde una conexión de socket TCP o desde archivos como orígenes de entrada. Las fuentes pueden ser fuentes como HDFS, S3, etc. Para leer archivos de texto, existe el método textFileStream de javastreamingcontext."
   ]
  },
  {
   "cell_type": "markdown",
   "id": "5a48bc96",
   "metadata": {},
   "source": [
    "Pero no podrá leer los archivos ya presentes en el directorio antes de que comience el contexto de transmisión, ya que solo lee los archivos recién creados.\n",
    "\n",
    "Así que aquí transmitiré los datos a través de la conexión de socket a través del puerto 9999 y crearé un receptor java de entrada DStream con él."
   ]
  },
  {
   "cell_type": "code",
   "execution_count": null,
   "id": "ade50be3",
   "metadata": {},
   "outputs": [],
   "source": [
    "lines = ssc.socketTextStream('localhost', 9999)\n",
    "ssc.checkpoint(\"file:///spark\")"
   ]
  },
  {
   "cell_type": "markdown",
   "id": "6ae65d46",
   "metadata": {},
   "source": [
    "Así que ahora, si establece una conexión de socket y escribe algo en el terminal, y ejecuta el dstream, verá que el texto aparece en la consola.\n",
    "\n",
    "Nota: Para iniciar un contexto de transmisión java, debemos decirle a spark que lo inicie, esperar a que finalice el cálculo y luego detenerlo. Y necesitamos imprimir el DStream por el método pprint().\n",
    "\n",
    "Ejecute en el cmd python server_console.py"
   ]
  },
  {
   "cell_type": "code",
   "execution_count": null,
   "id": "d10f9a3c",
   "metadata": {},
   "outputs": [],
   "source": [
    "counts = lines.flatMap(lambda line: line.split(\",\"))\\\n",
    "    .filter(lambda word:\"ERROR\" in word)\\\n",
    "    .map(lambda word : (word, 1))\\\n",
    "    .reduceByKey(lambda a, b : a + b)\n",
    "counts.pprint()\n",
    "ssc.start()\n",
    "ssc.awaitTermination()"
   ]
  },
  {
   "cell_type": "code",
   "execution_count": null,
   "id": "7b8a6cce",
   "metadata": {},
   "outputs": [],
   "source": [
    " ## window size = 10, sliding interval = 2\n",
    "# Checkpoint for backups\n",
    "ssc.checkpoint(\"file:///spark\")\n",
    "counts = lines.countByWindow(10, 2)\n",
    "## Display the counts\n",
    "## Start the program\n",
    "## The program will run until manual termination\n",
    "counts.pprint()\n",
    "ssc.start()\n",
    "ssc.awaitTermination()"
   ]
  },
  {
   "cell_type": "markdown",
   "id": "779d3eb0",
   "metadata": {},
   "source": [
    "### reduceByWindow\n",
    "Transformación con estado mediante Dstreams"
   ]
  },
  {
   "cell_type": "code",
   "execution_count": null,
   "id": "a1d4fd1d",
   "metadata": {},
   "outputs": [],
   "source": [
    "## summary function\n",
    "## reverse function\n",
    "## window size = 10\n",
    "## sliding interval = 2\n",
    "sum = lines.reduceByWindow(\n",
    "    lambda x, y: int(x) + int(y),\n",
    "    lambda x, y: int(x) - int(y),\n",
    "    10, 2)\n",
    "\n",
    "## Display the counts\n",
    "## Start the program\n",
    "## The program will run until manual termination\n",
    "sum.pprint()\n",
    "ssc.start()\n",
    "ssc.awaitTermination()"
   ]
  },
  {
   "cell_type": "code",
   "execution_count": null,
   "id": "0fc21e9a",
   "metadata": {},
   "outputs": [],
   "source": []
  }
 ],
 "metadata": {
  "kernelspec": {
   "display_name": "Python 3 (ipykernel)",
   "language": "python",
   "name": "python3"
  },
  "language_info": {
   "codemirror_mode": {
    "name": "ipython",
    "version": 3
   },
   "file_extension": ".py",
   "mimetype": "text/x-python",
   "name": "python",
   "nbconvert_exporter": "python",
   "pygments_lexer": "ipython3",
   "version": "3.10.7"
  }
 },
 "nbformat": 4,
 "nbformat_minor": 5
}
